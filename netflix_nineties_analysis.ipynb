{
 "cells": [
  {
   "cell_type": "markdown",
   "id": "33c8fae3",
   "metadata": {},
   "source": [
    "# Netflix 90s Movies EDA\n",
    "\n",
    "This notebook stores and explains my python script for Datacamp's project exploring Netflix's database on 1990s movies."
   ]
  },
  {
   "cell_type": "code",
   "execution_count": null,
   "id": "f0cebfd4",
   "metadata": {},
   "outputs": [],
   "source": [
    "import pandas as pd\n",
    "import numpy as np\n",
    "import matplotlib.pyplot as plt\n",
    "import os "
   ]
  },
  {
   "cell_type": "code",
   "execution_count": null,
   "id": "55ece051",
   "metadata": {},
   "outputs": [],
   "source": [
    "# Read in the Netflix CSV as a DataFrame\n",
    "netflix_df = pd.read_csv(\"netflix_data.csv\")"
   ]
  },
  {
   "cell_type": "markdown",
   "id": "ea466e92",
   "metadata": {},
   "source": [
    "## EDA parameters\n",
    "\n",
    "Explore Netflix's dataset to understand more about movies in the 90s, and find the following:\n",
    "\n",
    "* Most frequent movie duration saved as integer field called 'duration' \n",
    "* Count number of short Action movies released in the 90s and save this count as 'short_movie_count'"
   ]
  },
  {
   "cell_type": "code",
   "execution_count": null,
   "id": "986918c1",
   "metadata": {},
   "outputs": [],
   "source": [
    "duration = int(netflix_df['duration'].mean())\n",
    "print(duration)"
   ]
  },
  {
   "cell_type": "code",
   "execution_count": null,
   "id": "9bb2c5c5",
   "metadata": {},
   "outputs": [],
   "source": [
    "netflix_df.dtypes # Check structure and data types"
   ]
  },
  {
   "cell_type": "code",
   "execution_count": null,
   "id": "cf1c9c98",
   "metadata": {},
   "outputs": [],
   "source": [
    "# Set filtering to look for action movies in the 90s decade.\n",
    "nineties_action = netflix_df[(netflix_df['release_year'] > 1990) & (netflix_df['release_year'] < 2000) & (netflix_df['genre'] == 'Action') & (netflix_df['type'] == 'movie')]\n",
    "print(nineties_action)\n",
    "nineties_action.head()"
   ]
  },
  {
   "cell_type": "code",
   "execution_count": 17,
   "id": "666f6283",
   "metadata": {},
   "outputs": [
    {
     "name": "stdout",
     "output_type": "stream",
     "text": [
      "Duration: 117\n",
      "Count of short movies: 6\n"
     ]
    }
   ],
   "source": [
    "short_movie_count = 0 \n",
    "\n",
    "for _, row in nineties_action.iterrows():\n",
    "    if row['duration'] < 90:\n",
    "        short_movie_count += 1 \n",
    "\n",
    "print(\"Duration:\", duration)\n",
    "print(\"Count of short movies:\", short_movie_count)"
   ]
  },
  {
   "cell_type": "code",
   "execution_count": 18,
   "id": "6f6b942e",
   "metadata": {},
   "outputs": [
    {
     "name": "stdout",
     "output_type": "stream",
     "text": [
      "2        Movie 2\n",
      "8        Movie 8\n",
      "11      Movie 11\n",
      "18      Movie 18\n",
      "24      Movie 24\n",
      "27      Movie 27\n",
      "31      Movie 31\n",
      "36      Movie 36\n",
      "38      Movie 38\n",
      "41      Movie 41\n",
      "55      Movie 55\n",
      "70      Movie 70\n",
      "71      Movie 71\n",
      "88      Movie 88\n",
      "89      Movie 89\n",
      "93      Movie 93\n",
      "96      Movie 96\n",
      "97      Movie 97\n",
      "99      Movie 99\n",
      "104    Movie 104\n",
      "107    Movie 107\n",
      "134    Movie 134\n",
      "144    Movie 144\n",
      "166    Movie 166\n",
      "179    Movie 179\n",
      "182    Movie 182\n",
      "186    Movie 186\n",
      "193    Movie 193\n",
      "204    Movie 204\n",
      "208    Movie 208\n",
      "232    Movie 232\n",
      "240    Movie 240\n",
      "245    Movie 245\n",
      "283    Movie 283\n",
      "285    Movie 285\n",
      "286    Movie 286\n",
      "288    Movie 288\n",
      "289    Movie 289\n",
      "294    Movie 294\n",
      "297    Movie 297\n",
      "Name: title, dtype: object\n",
      "['Romance' 'Thriller' 'Action' 'Adventure' 'Comedy' 'Drama']\n",
      "['movie']\n",
      "<class 'pandas.core.frame.DataFrame'>\n",
      "RangeIndex: 300 entries, 0 to 299\n",
      "Data columns (total 11 columns):\n",
      " #   Column        Non-Null Count  Dtype \n",
      "---  ------        --------------  ----- \n",
      " 0   show_id       300 non-null    object\n",
      " 1   type          300 non-null    object\n",
      " 2   title         300 non-null    object\n",
      " 3   director      300 non-null    object\n",
      " 4   cast          300 non-null    object\n",
      " 5   country       300 non-null    object\n",
      " 6   date_added    300 non-null    object\n",
      " 7   release_year  300 non-null    int64 \n",
      " 8   duration      300 non-null    int64 \n",
      " 9   description   300 non-null    object\n",
      " 10  genre         300 non-null    object\n",
      "dtypes: int64(2), object(9)\n",
      "memory usage: 25.9+ KB\n"
     ]
    }
   ],
   "source": [
    "print(nineties_action['title'])\n",
    "\n",
    "print(netflix_df['genre'].unique())\n",
    "print(netflix_df['type'].unique())\n",
    "netflix_df.info()"
   ]
  }
 ],
 "metadata": {
  "kernelspec": {
   "display_name": "Python 3",
   "language": "python",
   "name": "python3"
  },
  "language_info": {
   "codemirror_mode": {
    "name": "ipython",
    "version": 3
   },
   "file_extension": ".py",
   "mimetype": "text/x-python",
   "name": "python",
   "nbconvert_exporter": "python",
   "pygments_lexer": "ipython3",
   "version": "3.9.6"
  }
 },
 "nbformat": 4,
 "nbformat_minor": 5
}
