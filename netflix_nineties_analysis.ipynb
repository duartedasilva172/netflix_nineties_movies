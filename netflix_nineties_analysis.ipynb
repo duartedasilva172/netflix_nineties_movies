{
 "cells": [
  {
   "cell_type": "markdown",
   "id": "33c8fae3",
   "metadata": {},
   "source": [
    "# Netflix 90s Movies EDA\n",
    "\n",
    "This notebook stores and explains my python script for Datacamp's project exploring Netflix's database on 1990s movies."
   ]
  },
  {
   "cell_type": "code",
   "execution_count": null,
   "id": "f0cebfd4",
   "metadata": {},
   "outputs": [],
   "source": [
    "import pandas as pd\n",
    "import numpy as np\n",
    "import maplotlib.plotpy as plt"
   ]
  }
 ],
 "metadata": {
  "language_info": {
   "name": "python"
  }
 },
 "nbformat": 4,
 "nbformat_minor": 5
}
